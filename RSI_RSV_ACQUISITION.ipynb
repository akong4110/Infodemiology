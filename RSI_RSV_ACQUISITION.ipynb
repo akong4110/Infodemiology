{
 "cells": [
  {
   "cell_type": "code",
   "execution_count": 1,
   "metadata": {},
   "outputs": [],
   "source": [
    "###### IMPORTANT NOTEBOOK FOR REPO X2"
   ]
  },
  {
   "cell_type": "code",
   "execution_count": 3,
   "metadata": {},
   "outputs": [],
   "source": [
    "import pandas as pd\n",
    "import numpy as np\n",
    "\n",
    "import matplotlib.pyplot as plt"
   ]
  },
  {
   "cell_type": "code",
   "execution_count": 4,
   "metadata": {},
   "outputs": [],
   "source": [
    "# Import needed packages\n",
    "import csv\n",
    "import search\n",
    "import simulate_keywords\n",
    "from google_client import GoogleClient"
   ]
  },
  {
   "cell_type": "code",
   "execution_count": 23,
   "metadata": {},
   "outputs": [
    {
     "name": "stdout",
     "output_type": "stream",
     "text": [
      "env: TRENDS_DEVELOPER_KEY=\"\"\n"
     ]
    }
   ],
   "source": [
    " # !!! Remove before uploading code\n",
    "%env TRENDS_DEVELOPER_KEY=\"\""
   ]
  },
  {
   "cell_type": "code",
   "execution_count": 6,
   "metadata": {},
   "outputs": [],
   "source": [
    "# Control your initial search terms which you would like to run the simulation for here\n",
    "initial_search_terms = ['home abortion']"
   ]
  },
  {
   "cell_type": "code",
   "execution_count": 7,
   "metadata": {},
   "outputs": [],
   "source": [
    "def load_geolocations(): \n",
    "    locations = []\n",
    "    with open(simulate_keywords.Simulation.LOCATIONS_FILE, \"r\") as csvfile: \n",
    "        reader = csv.DictReader(csvfile)\n",
    "        for row in reader: \n",
    "            code = row[\"geo_code\"]\n",
    "            description = row[\"description\"]\n",
    "            locations.append({\"code\": code, \"description\": description})\n",
    "    return locations"
   ]
  },
  {
   "cell_type": "code",
   "execution_count": 8,
   "metadata": {},
   "outputs": [],
   "source": [
    "\"\"\"\n",
    "Generate master list of top queries for all geolocations during the specified time period\n",
    "Get relative search volume of top queries for initial search term\n",
    "\"\"\"\n",
    "def run_simulation(initial_search_term, startDateTrends='2019-11', endDateTrends='2020-11', startDateTimelines='2019-11-01', endDateTimelines='2020-11-01'): \n",
    "    master_list = set()\n",
    "    relative_search_volumes = dict()\n",
    "    #This will contain a mapping of Location -> list of top queries and their associated relative search index\n",
    "    top_queries_relative_search_index = dict()\n",
    "    for loc in load_geolocations(): \n",
    "        \n",
    "        simulation = simulate_keywords.Simulation(initial_search_term, loc, startDateTrends, endDateTrends, startDateTimelines, endDateTimelines)\n",
    "        simulation.generate_keywords()\n",
    "        simulation.get_relative_search_volumes()\n",
    "        simulation.generate_simulation_csvs()\n",
    "        level_queries = {}\n",
    "        queryLevel = 1\n",
    "        \"\"\"//**for level in simulation.initial_queries['level']:\n",
    "            top_queries_in_level = [q['query'] for q in simulation.initial_queries if q['level'] == level]\n",
    "            top_queries[level] = top_queries_in_level\n",
    "            for query in top_queries_in_level:\n",
    "                master_list.add(query)\n",
    "                if (queryLevel not in level_queries.keys()):\n",
    "                    level_queries[queryLevel] = [query]\n",
    "                else:\n",
    "                    level_queries[queryLevel] = level_queries[queryLevel].append(query)\n",
    "            queryLevel +=1\n",
    "        while (run_simulation(initial_search_term, startDateTrends='2019-08', \n",
    "                              endDateTrends='2020-08', startDateTimelines='2019-08-01', \n",
    "                              endDateTimelines='2020-08-01'))*//\"\"\"\n",
    "        print(simulation.initial_queries)       \n",
    "        #top_queries = [q['query'] for q in simulation.initial_queries if q['level'] == 1]\n",
    "        top_queries = [q['query'] for q in simulation.initial_queries]\n",
    "        query_rel_search_index = [{'query': q['query'], 'value': q['value']} for q in simulation.initial_queries]\n",
    "        # each q holds the properties of each relevant search query ie. the query, query level, etc.\n",
    "        for query in top_queries: \n",
    "             master_list.add(query)\n",
    "        relative_search_volumes[loc['code']] = simulation.relative_search_volumes\n",
    "        top_queries_relative_search_index[loc['code']] = query_rel_search_index\n",
    "    return master_list, relative_search_volumes, top_queries_relative_search_index, simulation.initial_queries"
   ]
  },
  {
   "cell_type": "markdown",
   "metadata": {},
   "source": [
    "## STEP 1  "
   ]
  },
  {
   "cell_type": "code",
   "execution_count": 9,
   "metadata": {},
   "outputs": [],
   "source": [
    "# Ashley Kong October 18, 2020\n",
    "# remove duplicate relevant search terms \n",
    "# and return list of dictionaries of \n",
    "# unique queries and their respective relevant serach indices\n",
    "def remove_duplicates(running_log_of_relevant_terms_list, list_of_dictionaries) :\n",
    "                    # [home abortion, etc.]      all_relative_search_volumes[initial search term]['US'] \n",
    "    unique_queries = {}\n",
    "    for dictionary in list_of_dictionaries:\n",
    "        query = list(dictionary.keys())[0] #ex. 'abortion pill'\n",
    "        if query not in running_log_of_relevant_terms_list:\n",
    "            running_log_of_relevant_terms_list.append(query)\n",
    "            unique_queries[query] = dictionary[query]\n",
    "    unique_queries = restandardize_rsi(unique_queries)\n",
    "    return unique_queries\n",
    "\n",
    "# Ashley Kong November 17, 2020\n",
    "# Restandardize the relative search index\n",
    "# after obtaining unique list of relevant search terms\n",
    "# for a given initial search term(can be a term from a specific level)\n",
    "\n",
    "def restandardize_rsi(unique_queries_dict): \n",
    "                    # {abortion pill: ###, etc.}\n",
    "    total = sum([item for item in list(unique_queries_dict.values())])\n",
    "    for query in list(unique_queries_dict.keys()):\n",
    "        unique_queries_dict[query] = unique_queries_dict[query]/ total\n",
    "    return unique_queries_dict\n",
    "\n",
    "\n",
    "# Ashley Kong November 17, 2020\n",
    "# Running log of all levels and terms in a single iteration\n",
    "def add_level_log(new_level, origin_initial_term, dictionary_rsi_terms):\n",
    "                # ex. 1, 'abortion pill', ('abortion': ###)\n",
    "                # origin_initial_term will give us the previous term\n",
    "                # that the new level relevant search terms are for\n",
    "    \n",
    "    level_dict = {}\n",
    "    #check if the level exists in level_log\n",
    "    if new_level in list(level_log.keys()):\n",
    "        level_dict = level_log[new_level] #ex. level_log[1] --> \n",
    "                                    #{'abortion' ie. prev level term:{this level term: ####, etc.}}   \n",
    "    level_dict[origin_initial_term] = dictionary_rsi_terms\n",
    "    level_log[new_level] = level_dict\n",
    "    return level_log\n",
    "    \n",
    "\n"
   ]
  },
  {
   "cell_type": "code",
   "execution_count": 10,
   "metadata": {
    "scrolled": true
   },
   "outputs": [
    {
     "name": "stdout",
     "output_type": "stream",
     "text": [
      "[{'query': 'at home abortion', 'value': 100, 'level': 1, 'follow_up_terms': []}, {'query': 'abortion pill', 'value': 27, 'level': 1, 'follow_up_terms': []}, {'query': 'home remedies for abortion', 'value': 14, 'level': 1, 'follow_up_terms': []}, {'query': 'at home abortions', 'value': 11, 'level': 1, 'follow_up_terms': []}, {'query': 'how to have an abortion at home', 'value': 10, 'level': 1, 'follow_up_terms': []}, {'query': 'at home abortion methods', 'value': 2, 'level': 1, 'follow_up_terms': []}]\n"
     ]
    }
   ],
   "source": [
    "\"\"\"\n",
    "Run the simulation for all initial search terms \n",
    "Generates a dictionary mapping initial_search_term to its master list for all locations\n",
    "Generates a dictionary mapping initial_serach_term to its relative search volumes for all locations\n",
    "\"\"\"\n",
    "all_master_lists = dict()\n",
    "all_relative_search_volumes = dict()\n",
    "all_top_queries_rsi = dict()\n",
    "lst_initial_queries = []\n",
    "for initial_search_term in initial_search_terms: \n",
    "    # Note: must specify explicit startDate & endDate unless wish to use default values\n",
    "    master_list, relative_search_volumes, top_queries_rsi, initial_queries = run_simulation(initial_search_term)\n",
    "    all_master_lists[initial_search_term] = list(master_list)\n",
    "    all_relative_search_volumes[initial_search_term] = relative_search_volumes\n",
    "    all_top_queries_rsi[initial_search_term] = top_queries_rsi\n",
    "    lst_initial_queries = initial_queries"
   ]
  },
  {
   "cell_type": "code",
   "execution_count": 11,
   "metadata": {},
   "outputs": [
    {
     "data": {
      "text/html": [
       "<div>\n",
       "<style scoped>\n",
       "    .dataframe tbody tr th:only-of-type {\n",
       "        vertical-align: middle;\n",
       "    }\n",
       "\n",
       "    .dataframe tbody tr th {\n",
       "        vertical-align: top;\n",
       "    }\n",
       "\n",
       "    .dataframe thead th {\n",
       "        text-align: right;\n",
       "    }\n",
       "</style>\n",
       "<table border=\"1\" class=\"dataframe\">\n",
       "  <thead>\n",
       "    <tr style=\"text-align: right;\">\n",
       "      <th></th>\n",
       "      <th>Queries</th>\n",
       "      <th>Relative Search Volume</th>\n",
       "    </tr>\n",
       "  </thead>\n",
       "  <tbody>\n",
       "    <tr>\n",
       "      <th>1</th>\n",
       "      <td>abortion pill</td>\n",
       "      <td>0.936026</td>\n",
       "    </tr>\n",
       "    <tr>\n",
       "      <th>0</th>\n",
       "      <td>at home abortion</td>\n",
       "      <td>0.039269</td>\n",
       "    </tr>\n",
       "    <tr>\n",
       "      <th>3</th>\n",
       "      <td>at home abortions</td>\n",
       "      <td>0.010861</td>\n",
       "    </tr>\n",
       "    <tr>\n",
       "      <th>2</th>\n",
       "      <td>home remedies for abortion</td>\n",
       "      <td>0.007403</td>\n",
       "    </tr>\n",
       "    <tr>\n",
       "      <th>4</th>\n",
       "      <td>how to have an abortion at home</td>\n",
       "      <td>0.005408</td>\n",
       "    </tr>\n",
       "    <tr>\n",
       "      <th>5</th>\n",
       "      <td>at home abortion methods</td>\n",
       "      <td>0.001033</td>\n",
       "    </tr>\n",
       "  </tbody>\n",
       "</table>\n",
       "</div>"
      ],
      "text/plain": [
       "                           Queries  Relative Search Volume\n",
       "1                    abortion pill                0.936026\n",
       "0                 at home abortion                0.039269\n",
       "3                at home abortions                0.010861\n",
       "2       home remedies for abortion                0.007403\n",
       "4  how to have an abortion at home                0.005408\n",
       "5         at home abortion methods                0.001033"
      ]
     },
     "execution_count": 11,
     "metadata": {},
     "output_type": "execute_result"
    }
   ],
   "source": [
    "#ONLY APPLIED TO THE LEVEL 1 TERMS AKA THE ORIGINAL INITIAL SEARCH TERM'S FOLLOW UP TERMS\n",
    "# RUN THIS ***ONLY ONCE*** FOR THE ORIGINAL INITIAL SEARCH TERM\n",
    "rsv = all_relative_search_volumes['home abortion']['US']\n",
    "\n",
    "queries = [list(d.keys())[0] for d in rsv]\n",
    "rsvs = [list(d.values())[0] for d in rsv]\n",
    "rsv_df = pd.DataFrame(list(zip(queries, rsvs)), \n",
    "               columns =['Queries', 'Relative Search Volume'])\n",
    "rsv_df = rsv_df.sort_values('Relative Search Volume', ascending = False)\n",
    "rsv_df"
   ]
  },
  {
   "cell_type": "code",
   "execution_count": 159,
   "metadata": {},
   "outputs": [],
   "source": [
    "rsv_df = rsv_df.sort_values('Relative Search Volume', ascending = False)\n",
    "rsv_df.to_csv ('homeabortion_rsv.csv', header=True)"
   ]
  },
  {
   "cell_type": "code",
   "execution_count": 12,
   "metadata": {},
   "outputs": [
    {
     "data": {
      "text/plain": [
       "{'home abortion': {'US': [{'query': 'at home abortion', 'value': 100},\n",
       "   {'query': 'abortion pill', 'value': 27},\n",
       "   {'query': 'home remedies for abortion', 'value': 14},\n",
       "   {'query': 'at home abortions', 'value': 11},\n",
       "   {'query': 'how to have an abortion at home', 'value': 10},\n",
       "   {'query': 'at home abortion methods', 'value': 2}]}}"
      ]
     },
     "execution_count": 12,
     "metadata": {},
     "output_type": "execute_result"
    }
   ],
   "source": [
    "all_top_queries_rsi"
   ]
  },
  {
   "cell_type": "markdown",
   "metadata": {},
   "source": [
    "## STEP 2 Standardize RSI's and Remove Duplicates"
   ]
  },
  {
   "cell_type": "code",
   "execution_count": 13,
   "metadata": {},
   "outputs": [
    {
     "data": {
      "text/plain": [
       "[{'query': 'at home abortion', 'value': 100},\n",
       " {'query': 'abortion pill', 'value': 27},\n",
       " {'query': 'home remedies for abortion', 'value': 14},\n",
       " {'query': 'at home abortions', 'value': 11},\n",
       " {'query': 'how to have an abortion at home', 'value': 10},\n",
       " {'query': 'at home abortion methods', 'value': 2}]"
      ]
     },
     "execution_count": 13,
     "metadata": {},
     "output_type": "execute_result"
    }
   ],
   "source": [
    "# RESTANDARDIZE RSI BY REMOVING DUPLICATES\n",
    "# Need to specify initial search term or origin level search term\n",
    "# Skip for level 1 queries there will be no duplicates\n",
    "all_top_queries_rsi['home abortion'][\"US\"]"
   ]
  },
  {
   "cell_type": "code",
   "execution_count": 14,
   "metadata": {},
   "outputs": [],
   "source": [
    "def structure_rsi_dictionary(all_top_queries_rsi_lists_of_dictionaries):\n",
    "    rsi_list = []\n",
    "    for rsi_dictionary in all_top_queries_rsi_lists_of_dictionaries:\n",
    "        dictionary = {}\n",
    "        dictionary[rsi_dictionary['query']] = rsi_dictionary['value']\n",
    "        rsi_list.append(dictionary)\n",
    "    return rsi_list"
   ]
  },
  {
   "cell_type": "code",
   "execution_count": 15,
   "metadata": {},
   "outputs": [
    {
     "data": {
      "text/plain": [
       "[{'at home abortion': 100},\n",
       " {'abortion pill': 27},\n",
       " {'home remedies for abortion': 14},\n",
       " {'at home abortions': 11},\n",
       " {'how to have an abortion at home': 10},\n",
       " {'at home abortion methods': 2}]"
      ]
     },
     "execution_count": 15,
     "metadata": {},
     "output_type": "execute_result"
    }
   ],
   "source": [
    "list_of_rsi = structure_rsi_dictionary(all_top_queries_rsi['home abortion'][\"US\"])\n",
    "d = list_of_rsi\n",
    "d"
   ]
  },
  {
   "cell_type": "code",
   "execution_count": 16,
   "metadata": {},
   "outputs": [
    {
     "data": {
      "text/plain": [
       "[]"
      ]
     },
     "execution_count": 16,
     "metadata": {},
     "output_type": "execute_result"
    }
   ],
   "source": [
    "running_log_of_relevant_terms_list"
   ]
  },
  {
   "cell_type": "code",
   "execution_count": 17,
   "metadata": {},
   "outputs": [],
   "source": [
    "def remove_dup(running_log_of_relevant_terms_list, list_of_rsi_dicts) :\n",
    "                    # [home abortion, etc.]      all_relative_search_volumes[initial search term]['US'] \n",
    "    unique_queries = {}\n",
    "    for dictionary in list_of_rsi_dicts:\n",
    "        query = list(dictionary.keys())[0] #ex. 'abortion pill'\n",
    "        if query not in running_log_of_relevant_terms_list:\n",
    "            running_log_of_relevant_terms_list.append(query)\n",
    "            unique_queries[query] = dictionary[query]\n",
    "    return unique_queries"
   ]
  },
  {
   "cell_type": "code",
   "execution_count": 18,
   "metadata": {},
   "outputs": [
    {
     "data": {
      "text/plain": [
       "[]"
      ]
     },
     "execution_count": 18,
     "metadata": {},
     "output_type": "execute_result"
    }
   ],
   "source": [
    "running_log_of_relevant_terms_list"
   ]
  },
  {
   "cell_type": "code",
   "execution_count": 19,
   "metadata": {},
   "outputs": [
    {
     "data": {
      "text/plain": [
       "{'at home abortion': 100,\n",
       " 'abortion pill': 27,\n",
       " 'home remedies for abortion': 14,\n",
       " 'at home abortions': 11,\n",
       " 'how to have an abortion at home': 10,\n",
       " 'at home abortion methods': 2}"
      ]
     },
     "execution_count": 19,
     "metadata": {},
     "output_type": "execute_result"
    }
   ],
   "source": [
    "#                     running_log_of_relevant_terms_list, lst_initial_queries[initial_search_term][location]\n",
    "#d = remove_duplicates(running_log_of_relevant_terms_list, all_relative_search_volumes['abortion at home']['US'])\n",
    "#d = remove_duplicates(running_log_of_relevant_terms_list, list_of_rsi)\n",
    "d = remove_dup(running_log_of_relevant_terms_list, list_of_rsi)\n",
    "d"
   ]
  },
  {
   "cell_type": "markdown",
   "metadata": {},
   "source": [
    "## STEP 3 Update running log for a single iteration"
   ]
  },
  {
   "cell_type": "code",
   "execution_count": 20,
   "metadata": {},
   "outputs": [],
   "source": [
    "# Check this Step (the cell below) \n",
    "# to see what level we are at/ what terms to look at next\n",
    "\n",
    "# NOTE: If a NoneType if received for an origin_inital_term we \n",
    "#       will not provide a dictionary for that origin_initial_term"
   ]
  },
  {
   "cell_type": "code",
   "execution_count": 21,
   "metadata": {},
   "outputs": [
    {
     "data": {
      "text/plain": [
       "{0: 'home abortion',\n",
       " 1: {'home abortion': {'at home abortion': 100,\n",
       "   'abortion pill': 27,\n",
       "   'home remedies for abortion': 14,\n",
       "   'at home abortions': 11,\n",
       "   'how to have an abortion at home': 10,\n",
       "   'at home abortion methods': 2}}}"
      ]
     },
     "execution_count": 21,
     "metadata": {},
     "output_type": "execute_result"
    }
   ],
   "source": [
    "#Repeat for each level term\n",
    "\n",
    "# Level, initial search term, list of dictionaries with unique queries and respective rsi's\n",
    "add_level_log(1, 'home abortion', d)\n",
    "#level_log[0] --> level 1 terms and level 1 term rsv\n",
    "                 # EX. {'how to do abortion': {'abortion pill': ####, etc.} }\n",
    "    \n",
    "#level_log[1] --> level 2 terms and level 2 term rsv's \n",
    "                # (ie. the relevant search terms of level 1 terms)\n",
    "                # EX. {'abortion pill': {'some term': ###, etc.} }\n"
   ]
  },
  {
   "cell_type": "code",
   "execution_count": 22,
   "metadata": {},
   "outputs": [
    {
     "data": {
      "text/plain": [
       "['at home abortion',\n",
       " 'abortion pill',\n",
       " 'home remedies for abortion',\n",
       " 'at home abortions',\n",
       " 'how to have an abortion at home',\n",
       " 'at home abortion methods']"
      ]
     },
     "execution_count": 22,
     "metadata": {},
     "output_type": "execute_result"
    }
   ],
   "source": [
    "# Log of current unique queries\n",
    "running_log_of_relevant_terms_list"
   ]
  },
  {
   "cell_type": "markdown",
   "metadata": {},
   "source": [
    "## STEP 4 Store Iteration results "
   ]
  },
  {
   "cell_type": "code",
   "execution_count": 5,
   "metadata": {},
   "outputs": [],
   "source": [
    "import json"
   ]
  },
  {
   "cell_type": "code",
   "execution_count": null,
   "metadata": {},
   "outputs": [],
   "source": [
    "# We can see which levels ended \n",
    "# by looking at the column level ie. if there is NaN\n",
    "df = pd.DataFrame(level_log)\n",
    "df.head(20)"
   ]
  },
  {
   "cell_type": "code",
   "execution_count": null,
   "metadata": {},
   "outputs": [],
   "source": [
    "# Name initialsearchterm_iteration#.txt\n",
    "json.dump(level_log, open(\"homeabortion.txt\",'w'))"
   ]
  },
  {
   "cell_type": "markdown",
   "metadata": {},
   "source": [
    "## STEP 0 Initialization of logs  "
   ]
  },
  {
   "cell_type": "code",
   "execution_count": 1,
   "metadata": {},
   "outputs": [],
   "source": [
    "#initialization at the beginning of each iteration\n",
    "running_log_of_relevant_terms_list = []\n",
    "rsv = []\n"
   ]
  },
  {
   "cell_type": "code",
   "execution_count": 2,
   "metadata": {},
   "outputs": [],
   "source": [
    "#level_log = {0: initial search term}\n",
    "level_log = {0:'home abortion'}\n",
    "            #level.  terms etc. {(level 1 abortion pill): {term: rsv}, ... "
   ]
  }
 ],
 "metadata": {
  "kernelspec": {
   "display_name": "Python 3",
   "language": "python",
   "name": "python3"
  },
  "language_info": {
   "codemirror_mode": {
    "name": "ipython",
    "version": 3
   },
   "file_extension": ".py",
   "mimetype": "text/x-python",
   "name": "python",
   "nbconvert_exporter": "python",
   "pygments_lexer": "ipython3",
   "version": "3.8.6"
  }
 },
 "nbformat": 4,
 "nbformat_minor": 4
}
