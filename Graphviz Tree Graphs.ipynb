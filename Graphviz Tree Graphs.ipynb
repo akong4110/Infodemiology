{
 "cells": [
  {
   "cell_type": "code",
   "execution_count": 1,
   "metadata": {},
   "outputs": [],
   "source": [
    "import graphviz\n",
    "from sklearn.datasets import load_iris\n",
    "from sklearn import tree\n",
    "from IPython.display import IFrame, display\n",
    "import pandas as pd"
   ]
  },
  {
   "cell_type": "markdown",
   "metadata": {},
   "source": [
    "# OVER THE COUNTER PILL"
   ]
  },
  {
   "cell_type": "code",
   "execution_count": 2,
   "metadata": {},
   "outputs": [
    {
     "data": {
      "text/html": [
       "<div>\n",
       "<style scoped>\n",
       "    .dataframe tbody tr th:only-of-type {\n",
       "        vertical-align: middle;\n",
       "    }\n",
       "\n",
       "    .dataframe tbody tr th {\n",
       "        vertical-align: top;\n",
       "    }\n",
       "\n",
       "    .dataframe thead th {\n",
       "        text-align: right;\n",
       "    }\n",
       "</style>\n",
       "<table border=\"1\" class=\"dataframe\">\n",
       "  <thead>\n",
       "    <tr style=\"text-align: right;\">\n",
       "      <th></th>\n",
       "      <th>Query</th>\n",
       "      <th>Relative Search Index</th>\n",
       "    </tr>\n",
       "  </thead>\n",
       "  <tbody>\n",
       "    <tr>\n",
       "      <th>0</th>\n",
       "      <td>yeast infection pill</td>\n",
       "      <td>100</td>\n",
       "    </tr>\n",
       "    <tr>\n",
       "      <th>1</th>\n",
       "      <td>yeast infection</td>\n",
       "      <td>96</td>\n",
       "    </tr>\n",
       "    <tr>\n",
       "      <th>2</th>\n",
       "      <td>over the counter yeast infection pill</td>\n",
       "      <td>89</td>\n",
       "    </tr>\n",
       "    <tr>\n",
       "      <th>3</th>\n",
       "      <td>sleeping pill over the counter</td>\n",
       "      <td>66</td>\n",
       "    </tr>\n",
       "    <tr>\n",
       "      <th>4</th>\n",
       "      <td>viagra pill</td>\n",
       "      <td>63</td>\n",
       "    </tr>\n",
       "    <tr>\n",
       "      <th>5</th>\n",
       "      <td>water pill over the counter</td>\n",
       "      <td>59</td>\n",
       "    </tr>\n",
       "    <tr>\n",
       "      <th>6</th>\n",
       "      <td>viagra</td>\n",
       "      <td>56</td>\n",
       "    </tr>\n",
       "    <tr>\n",
       "      <th>7</th>\n",
       "      <td>best over the counter diet pill</td>\n",
       "      <td>43</td>\n",
       "    </tr>\n",
       "    <tr>\n",
       "      <th>8</th>\n",
       "      <td>abortion pill</td>\n",
       "      <td>30</td>\n",
       "    </tr>\n",
       "    <tr>\n",
       "      <th>9</th>\n",
       "      <td>best over the counter weight loss pill</td>\n",
       "      <td>30</td>\n",
       "    </tr>\n",
       "    <tr>\n",
       "      <th>10</th>\n",
       "      <td>best over the counter sleeping pill</td>\n",
       "      <td>13</td>\n",
       "    </tr>\n",
       "    <tr>\n",
       "      <th>11</th>\n",
       "      <td>pill identifier</td>\n",
       "      <td>10</td>\n",
       "    </tr>\n",
       "    <tr>\n",
       "      <th>12</th>\n",
       "      <td>strongest over the counter pain pill</td>\n",
       "      <td>3</td>\n",
       "    </tr>\n",
       "  </tbody>\n",
       "</table>\n",
       "</div>"
      ],
      "text/plain": [
       "                                     Query  Relative Search Index\n",
       "0                     yeast infection pill                    100\n",
       "1                          yeast infection                     96\n",
       "2    over the counter yeast infection pill                     89\n",
       "3           sleeping pill over the counter                     66\n",
       "4                              viagra pill                     63\n",
       "5              water pill over the counter                     59\n",
       "6                                   viagra                     56\n",
       "7          best over the counter diet pill                     43\n",
       "8                            abortion pill                     30\n",
       "9   best over the counter weight loss pill                     30\n",
       "10     best over the counter sleeping pill                     13\n",
       "11                         pill identifier                     10\n",
       "12    strongest over the counter pain pill                      3"
      ]
     },
     "execution_count": 2,
     "metadata": {},
     "output_type": "execute_result"
    }
   ],
   "source": [
    "rsi_ocp = pd.DataFrame(['yeast infection pill',\n",
    "   'yeast infection',\n",
    "   'over the counter yeast infection pill',\n",
    "   'sleeping pill over the counter',\n",
    "   'viagra pill',\n",
    "   'water pill over the counter',\n",
    "   'viagra',\n",
    "   'best over the counter diet pill',\n",
    "   'abortion pill',\n",
    "   'best over the counter weight loss pill',\n",
    "   'best over the counter sleeping pill',\n",
    "   'pill identifier',\n",
    "   'strongest over the counter pain pill'], columns = ['Query'])\n",
    "rsi_ocp['Relative Search Index'] = [ 100,\n",
    "   96,  89, 66, 63,  59,  56,  43, 30, 30,  13, 10, 3]\n",
    "rsi_ocp"
   ]
  },
  {
   "cell_type": "code",
   "execution_count": 3,
   "metadata": {},
   "outputs": [],
   "source": [
    "rsi_ocp.to_csv ('ocp_rsi.csv', header=True)"
   ]
  },
  {
   "cell_type": "code",
   "execution_count": 4,
   "metadata": {},
   "outputs": [
    {
     "ename": "SyntaxError",
     "evalue": "invalid syntax (<ipython-input-4-9696b0b2d9ff>, line 14)",
     "output_type": "error",
     "traceback": [
      "\u001b[0;36m  File \u001b[0;32m\"<ipython-input-4-9696b0b2d9ff>\"\u001b[0;36m, line \u001b[0;32m14\u001b[0m\n\u001b[0;31m    'strongest over the counter pain pill': 3}},//\u001b[0m\n\u001b[0m                                                ^\u001b[0m\n\u001b[0;31mSyntaxError\u001b[0m\u001b[0;31m:\u001b[0m invalid syntax\n"
     ]
    }
   ],
   "source": [
    "{0: 'over the counter pill',\n",
    " 1: {'over the counter pill': {'yeast infection pill': 100,\n",
    "   'yeast infection': 96,\n",
    "   'over the counter yeast infection pill': 89,\n",
    "   'sleeping pill over the counter': 66,\n",
    "   'viagra pill': 63,\n",
    "   'water pill over the counter': 59,\n",
    "   'viagra': 56,\n",
    "   'best over the counter diet pill': 43,\n",
    "   'abortion pill': 30,\n",
    "   'best over the counter weight loss pill': 30,\n",
    "   'best over the counter sleeping pill': 13,\n",
    "   'pill identifier': 10,\n",
    "   'strongest over the counter pain pill': 3}},//\n",
    " \n",
    " \n",
    " 2: {'abortion pill': {'the abortion pill': 100,\n",
    "   'abortion cost': 52,\n",
    "   'abortion pill cost': 52,\n",
    "   'pill for abortion': 35,\n",
    "   'planned parenthood': 30,\n",
    "   'planned parenthood abortion': 29,\n",
    "   'planned parenthood abortion pill': 29,\n",
    "   'abortion near me': 23,\n",
    "   'how much is abortion pill': 22,\n",
    "   'abortion pill near me': 22,\n",
    "   'plan b pill': 21,\n",
    "   'abortion clinic': 21,\n",
    "   'plan b': 21,\n",
    "   'pregnancy test': 18,\n",
    "   'abortion pills': 17,\n",
    "   'abortion pill side effects': 14,\n",
    "   'misoprostol': 12,\n",
    "   'how much is an abortion pill': 12,\n",
    "   'how much is an abortion': 11,\n",
    "   'abortion pill online': 11,\n",
    "   'how much is the abortion pill': 11,\n",
    "   'what is the abortion pill': 11,\n",
    "   'bleeding after abortion pill': 10,\n",
    "   'abortion pill symptoms': 9,\n",
    "   'mifepristone': 9}},\n",
    " 3: {'abortion pill online': {'buy abortion pill kit online': 100}}}"
   ]
  },
  {
   "cell_type": "code",
   "execution_count": 5,
   "metadata": {},
   "outputs": [
    {
     "data": {
      "text/plain": [
       "'over_the_counter_pill_rsi.gv.pdf'"
      ]
     },
     "execution_count": 5,
     "metadata": {},
     "output_type": "execute_result"
    }
   ],
   "source": [
    "d = graphviz.Digraph(filename='over_the_counter_pill_rsi.gv')\n",
    "\n",
    "with d.subgraph() as s:\n",
    "    s.attr(rank='same')\n",
    "    s.node(\"A\", 'over the counter pill')\n",
    "    s.node(\"A\", color='red')\n",
    "    \n",
    "    \n",
    "with d.subgraph() as s:\n",
    "    s.attr(rank='same')\n",
    "    s.node(\"B\", 'yeast infection pill: 100')   \n",
    "    s.node(\"C\", 'yeast infection: 96') \n",
    "    s.node(\"D\", 'over the counter yeast infection pill: 89') \n",
    "    s.node(\"E\", 'sleeping pill over the counter: 66')   \n",
    "    s.node(\"F\", 'viagra pill: 63')   \n",
    "    s.node(\"G\", 'water pill over the counter: 59')    \n",
    "    s.node(\"H\", 'viagra: 56')    \n",
    "    s.node(\"I\", 'best over the counter diet pill: 43')    \n",
    "    s.node(\"J\", 'abortion pill: 30')\n",
    "    s.node(\"J\", color='red')\n",
    "    s.node(\"K\", 'best over the counter weight loss pill: 30')   \n",
    "    s.node(\"L\", 'best over the counter sleeping pill: 13')\n",
    "    s.node(\"M\", 'pill identifier: 10')   \n",
    "    s.node(\"N\", 'strongest over the counter pain pill: 3') \n",
    "    \n",
    "\n",
    "with d.subgraph() as s: #JM\n",
    "    s.attr(rank='same')   \n",
    "    s.node(\"O\", 'the abortion pill: 100') \n",
    "    s.node(\"P\", 'abortion cost: 52')   \n",
    "    s.node(\"Q\", 'abortion pill cost: 52')   \n",
    "    s.node(\"R\", 'pill for abortion: 35')     \n",
    "    s.node(\"S\", 'planned parenthood: 30')   \n",
    "    s.node(\"T\", 'planned parenthood abortion: 29')  \n",
    "    s.node(\"U\", 'planned parenthood abortion pill: 29')   \n",
    "    s.node(\"V\", 'abortion near me: 23')   \n",
    "    s.node(\"W\", 'how much is abortion pill: 22')\n",
    "    s.node(\"X\", 'plan b pill: 21')\n",
    "    s.node(\"Y\", 'abortion clinic: 21')\n",
    "    s.node(\"Z\", 'plan b: 21')\n",
    "    s.node(\"a\", 'pregnancy test: 18')\n",
    "    s.node(\"b\", 'abortion pills: 17')\n",
    "    s.node(\"c\", 'abortion pill side effects: 14')\n",
    "    s.node(\"d\", 'misoprostol: 12')    \n",
    "    s.node(\"e\", 'how much is an abortion pill: 12')\n",
    "    s.node(\"f\", 'how much is an abortion: 11')\n",
    "    s.node(\"g\", 'abortion pill online: 11')   \n",
    "    s.node(\"g\", color= 'red')  \n",
    "    s.node(\"h\", 'how much is the abortion pill: 11')\n",
    "    s.node(\"i\", 'what is the abortion pill: 11')\n",
    "    s.node(\"j\", 'bleeding after abortion pill: 10')\n",
    "    s.node(\"k\", 'abortion pill symptoms: 9')\n",
    "    s.node(\"l\", 'mifepristone: 9')\n",
    "    \n",
    "with d.subgraph() as s: #gm\n",
    "    s.attr(rank='same')   \n",
    "    s.node(\"m\", 'buy abortion pill kit online: 100') \n",
    "    s.node(\"m\", color='blue') \n",
    "    \n",
    "    \n",
    "    \n",
    "    \n",
    "\n",
    "d.edges(['AB', 'AC', 'AD', 'AE', 'AF', 'AG', 'AH', 'AI', 'AJ', 'AK', 'AL',\n",
    "         'AM', 'AN', 'JO', 'JP', 'JQ', 'JR', 'JS', 'JT', 'JU', 'JV', 'JW', 'JX', 'JY', 'JZ', \n",
    "         'Ja', 'Jb', 'Jc', 'Jd', 'Je', 'Jf', 'Jg', 'Jh', 'Ji', 'Jj', \"Jk\", \"Jl\", \"gm\"])\n",
    "\n",
    "d.view()"
   ]
  },
  {
   "cell_type": "code",
   "execution_count": 6,
   "metadata": {},
   "outputs": [
    {
     "data": {
      "text/html": [
       "\n",
       "        <iframe\n",
       "            width=\"700\"\n",
       "            height=\"400\"\n",
       "            src=\"over_the_counter_pill_rsi.gv.pdf\"\n",
       "            frameborder=\"0\"\n",
       "            allowfullscreen\n",
       "        ></iframe>\n",
       "        "
      ],
      "text/plain": [
       "<IPython.lib.display.IFrame at 0x7f7e042077c0>"
      ]
     },
     "execution_count": 6,
     "metadata": {},
     "output_type": "execute_result"
    }
   ],
   "source": [
    "# Creating a PDF image of the US_self_induced_abortion tree using Graphviz\n",
    "filepath = \"over_the_counter_pill_rsi.gv.pdf\"\n",
    "IFrame(filepath, width=700, height=400)"
   ]
  },
  {
   "cell_type": "markdown",
   "metadata": {},
   "source": [
    "# HOME ABORTION"
   ]
  },
  {
   "cell_type": "code",
   "execution_count": 7,
   "metadata": {},
   "outputs": [
    {
     "data": {
      "text/html": [
       "<div>\n",
       "<style scoped>\n",
       "    .dataframe tbody tr th:only-of-type {\n",
       "        vertical-align: middle;\n",
       "    }\n",
       "\n",
       "    .dataframe tbody tr th {\n",
       "        vertical-align: top;\n",
       "    }\n",
       "\n",
       "    .dataframe thead th {\n",
       "        text-align: right;\n",
       "    }\n",
       "</style>\n",
       "<table border=\"1\" class=\"dataframe\">\n",
       "  <thead>\n",
       "    <tr style=\"text-align: right;\">\n",
       "      <th></th>\n",
       "      <th>Query</th>\n",
       "      <th>Relative Search Index</th>\n",
       "    </tr>\n",
       "  </thead>\n",
       "  <tbody>\n",
       "    <tr>\n",
       "      <th>0</th>\n",
       "      <td>at home abortion</td>\n",
       "      <td>100</td>\n",
       "    </tr>\n",
       "    <tr>\n",
       "      <th>1</th>\n",
       "      <td>abortion pill</td>\n",
       "      <td>37</td>\n",
       "    </tr>\n",
       "    <tr>\n",
       "      <th>2</th>\n",
       "      <td>how to have an abortion at home</td>\n",
       "      <td>12</td>\n",
       "    </tr>\n",
       "    <tr>\n",
       "      <th>3</th>\n",
       "      <td>how to have a home abortion</td>\n",
       "      <td>12</td>\n",
       "    </tr>\n",
       "    <tr>\n",
       "      <th>4</th>\n",
       "      <td>home remedies for abortion</td>\n",
       "      <td>11</td>\n",
       "    </tr>\n",
       "    <tr>\n",
       "      <th>5</th>\n",
       "      <td>abortion clinic</td>\n",
       "      <td>9</td>\n",
       "    </tr>\n",
       "    <tr>\n",
       "      <th>6</th>\n",
       "      <td>plan b</td>\n",
       "      <td>8</td>\n",
       "    </tr>\n",
       "    <tr>\n",
       "      <th>7</th>\n",
       "      <td>how to do an at home abortion</td>\n",
       "      <td>7</td>\n",
       "    </tr>\n",
       "    <tr>\n",
       "      <th>8</th>\n",
       "      <td>home abortion methods</td>\n",
       "      <td>4</td>\n",
       "    </tr>\n",
       "  </tbody>\n",
       "</table>\n",
       "</div>"
      ],
      "text/plain": [
       "                             Query  Relative Search Index\n",
       "0                 at home abortion                    100\n",
       "1                    abortion pill                     37\n",
       "2  how to have an abortion at home                     12\n",
       "3      how to have a home abortion                     12\n",
       "4       home remedies for abortion                     11\n",
       "5                  abortion clinic                      9\n",
       "6                           plan b                      8\n",
       "7    how to do an at home abortion                      7\n",
       "8            home abortion methods                      4"
      ]
     },
     "execution_count": 7,
     "metadata": {},
     "output_type": "execute_result"
    }
   ],
   "source": [
    "rsi_ha = pd.DataFrame(['at home abortion',\n",
    "   'abortion pill',\n",
    "   'how to have an abortion at home',\n",
    "   'how to have a home abortion',\n",
    "   'home remedies for abortion',\n",
    "   'abortion clinic',\n",
    "   'plan b',\n",
    "   'how to do an at home abortion',\n",
    "   'home abortion methods'], columns = ['Query'])\n",
    "rsi_ha['Relative Search Index'] = [ 100,\n",
    "   37,  12, 12, 11,  9,  8,  7, 4]\n",
    "rsi_ha"
   ]
  },
  {
   "cell_type": "code",
   "execution_count": 8,
   "metadata": {},
   "outputs": [],
   "source": [
    "rsi_ha.to_csv ('ocp_ha.csv', header=True)"
   ]
  },
  {
   "cell_type": "code",
   "execution_count": 10,
   "metadata": {},
   "outputs": [
    {
     "data": {
      "text/plain": [
       "'home_abortion_rsi.gv.pdf'"
      ]
     },
     "execution_count": 10,
     "metadata": {},
     "output_type": "execute_result"
    }
   ],
   "source": [
    "d = graphviz.Digraph(filename='home_abortion_rsi.gv')\n",
    "\n",
    "with d.subgraph() as s:\n",
    "    s.attr(rank='same')\n",
    "    s.node(\"A\", 'home abortion')  \n",
    "    s.node(\"A\", color = 'red')  \n",
    "    \n",
    "    \n",
    "with d.subgraph() as s:\n",
    "    s.attr(rank='same')\n",
    "    s.node(\"B\", 'at home abortion: 100')  \n",
    "    s.node(\"B\", color = 'blue')  \n",
    "    s.node(\"C\", 'abortion pill: 37') \n",
    "    s.node(\"D\", 'how to have an abortion at home: 12') \n",
    "    s.node(\"D\", color = 'blue')\n",
    "    s.node(\"E\", 'how to have a home abortion: 12')   \n",
    "    s.node(\"E\", color = 'blue')\n",
    "    s.node(\"F\", 'home remedies for abortion: 11') \n",
    "    s.node(\"F\", color = 'blue')\n",
    "    s.node(\"G\", 'abortion clinic: 9')    \n",
    "    s.node(\"H\", 'plan b: 8')    \n",
    "    s.node(\"I\", 'how to do an at home abortion: 7')  \n",
    "    s.node(\"I\", color = 'blue') \n",
    "    s.node(\"J\", 'home abortion methods: 4')\n",
    "    s.node(\"J\", color='blue')\n",
    "\n",
    "\n",
    "d.edges(['AB', 'AC', 'AD', 'AE', 'AF', 'AG', 'AH', 'AI', \n",
    "         'AJ'\n",
    "        ])\n",
    "\n",
    "d.view()"
   ]
  },
  {
   "cell_type": "code",
   "execution_count": 11,
   "metadata": {},
   "outputs": [
    {
     "data": {
      "text/html": [
       "\n",
       "        <iframe\n",
       "            width=\"700\"\n",
       "            height=\"400\"\n",
       "            src=\"home_abortion_rsi.gv.pdf\"\n",
       "            frameborder=\"0\"\n",
       "            allowfullscreen\n",
       "        ></iframe>\n",
       "        "
      ],
      "text/plain": [
       "<IPython.lib.display.IFrame at 0x7f7db4e50f70>"
      ]
     },
     "execution_count": 11,
     "metadata": {},
     "output_type": "execute_result"
    }
   ],
   "source": [
    "# Creating a PDF image of the US_self_induced_abortion tree using Graphviz\n",
    "filepath = \"home_abortion_rsi.gv.pdf\"\n",
    "IFrame(filepath, width=700, height=400)"
   ]
  },
  {
   "cell_type": "markdown",
   "metadata": {},
   "source": [
    "# BUY ABORTION PILL ONLINE"
   ]
  },
  {
   "cell_type": "code",
   "execution_count": 12,
   "metadata": {},
   "outputs": [
    {
     "data": {
      "text/html": [
       "<div>\n",
       "<style scoped>\n",
       "    .dataframe tbody tr th:only-of-type {\n",
       "        vertical-align: middle;\n",
       "    }\n",
       "\n",
       "    .dataframe tbody tr th {\n",
       "        vertical-align: top;\n",
       "    }\n",
       "\n",
       "    .dataframe thead th {\n",
       "        text-align: right;\n",
       "    }\n",
       "</style>\n",
       "<table border=\"1\" class=\"dataframe\">\n",
       "  <thead>\n",
       "    <tr style=\"text-align: right;\">\n",
       "      <th></th>\n",
       "      <th>Query</th>\n",
       "      <th>Relative Search Index</th>\n",
       "    </tr>\n",
       "  </thead>\n",
       "  <tbody>\n",
       "    <tr>\n",
       "      <th>0</th>\n",
       "      <td>buy abortion pill kit online</td>\n",
       "      <td>100</td>\n",
       "    </tr>\n",
       "    <tr>\n",
       "      <th>1</th>\n",
       "      <td>buy abortion pill online fast delivery</td>\n",
       "      <td>25</td>\n",
       "    </tr>\n",
       "  </tbody>\n",
       "</table>\n",
       "</div>"
      ],
      "text/plain": [
       "                                    Query  Relative Search Index\n",
       "0            buy abortion pill kit online                    100\n",
       "1  buy abortion pill online fast delivery                     25"
      ]
     },
     "execution_count": 12,
     "metadata": {},
     "output_type": "execute_result"
    }
   ],
   "source": [
    "rsi_bapo = pd.DataFrame(['buy abortion pill kit online',\n",
    "   'buy abortion pill online fast delivery'], columns = ['Query'])\n",
    "rsi_bapo['Relative Search Index'] = [ 100,\n",
    "   25]\n",
    "rsi_bapo"
   ]
  },
  {
   "cell_type": "code",
   "execution_count": 13,
   "metadata": {},
   "outputs": [],
   "source": [
    "rsi_bapo.to_csv ('bapo_rsi.csv', header=True)"
   ]
  },
  {
   "cell_type": "code",
   "execution_count": 15,
   "metadata": {},
   "outputs": [],
   "source": [
    "d = graphviz.Digraph(filename='buy_abortion_pill_online_rsi.gv')\n",
    "\n",
    "with d.subgraph() as s:\n",
    "    s.attr(rank='same')\n",
    "    s.node(\"A\", 'buy abortion pill online')\n",
    "    s.node(\"A\", color='red')\n",
    "    \n",
    "    \n",
    "with d.subgraph() as s:\n",
    "    s.attr(rank='same')\n",
    "    s.node(\"B\", 'buy abortion pill kit online: 100')   \n",
    "    s.node(\"B\", color = 'blue')  \n",
    "    s.node(\"C\", 'buy abortion pill online fast delivery: 25') \n",
    "    s.node(\"C\", color = 'blue')\n",
    "    \n",
    "    \n",
    "d.edges(['AB', 'AC'\n",
    "        ])\n",
    "\n",
    "d.view();"
   ]
  },
  {
   "cell_type": "code",
   "execution_count": 16,
   "metadata": {},
   "outputs": [
    {
     "data": {
      "text/html": [
       "\n",
       "        <iframe\n",
       "            width=\"700\"\n",
       "            height=\"400\"\n",
       "            src=\"buy_abortion_pill_online_rsi.gv.pdf\"\n",
       "            frameborder=\"0\"\n",
       "            allowfullscreen\n",
       "        ></iframe>\n",
       "        "
      ],
      "text/plain": [
       "<IPython.lib.display.IFrame at 0x7f7db4e0a4c0>"
      ]
     },
     "execution_count": 16,
     "metadata": {},
     "output_type": "execute_result"
    }
   ],
   "source": [
    "# Creating a PDF image of the US_self_induced_abortion tree using Graphviz\n",
    "filepath = \"buy_abortion_pill_online_rsi.gv.pdf\"\n",
    "IFrame(filepath, width=700, height=400)"
   ]
  }
 ],
 "metadata": {
  "kernelspec": {
   "display_name": "Python 3",
   "language": "python",
   "name": "python3"
  },
  "language_info": {
   "codemirror_mode": {
    "name": "ipython",
    "version": 3
   },
   "file_extension": ".py",
   "mimetype": "text/x-python",
   "name": "python",
   "nbconvert_exporter": "python",
   "pygments_lexer": "ipython3",
   "version": "3.8.6"
  }
 },
 "nbformat": 4,
 "nbformat_minor": 4
}
